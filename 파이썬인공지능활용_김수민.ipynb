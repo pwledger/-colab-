{
  "nbformat": 4,
  "nbformat_minor": 0,
  "metadata": {
    "colab": {
      "provenance": [],
      "authorship_tag": "ABX9TyMWszKJbRBIwjfGjLXCp1i5",
      "include_colab_link": true
    },
    "kernelspec": {
      "name": "python3",
      "display_name": "Python 3"
    },
    "language_info": {
      "name": "python"
    }
  },
  "cells": [
    {
      "cell_type": "markdown",
      "metadata": {
        "id": "view-in-github",
        "colab_type": "text"
      },
      "source": [
        "<a href=\"https://colab.research.google.com/github/pwledger/-colab-/blob/main/%ED%8C%8C%EC%9D%B4%EC%8D%AC%EC%9D%B8%EA%B3%B5%EC%A7%80%EB%8A%A5%ED%99%9C%EC%9A%A9_%EA%B9%80%EC%88%98%EB%AF%BC.ipynb\" target=\"_parent\"><img src=\"https://colab.research.google.com/assets/colab-badge.svg\" alt=\"Open In Colab\"/></a>"
      ]
    },
    {
      "cell_type": "markdown",
      "source": [
        "# 파이썬기초문법정리"
      ],
      "metadata": {
        "id": "RbxIDU7lAmq3"
      }
    },
    {
      "cell_type": "markdown",
      "source": [
        "\n",
        "\n",
        "1.   출력및연산\n",
        "2.   문자열/리스트\n",
        "3.   조건\n",
        "4.   반복\n",
        "5.   함수\n",
        "6.   모듈\n",
        "\n"
      ],
      "metadata": {
        "id": "v_rJ0FMDA0TA"
      }
    },
    {
      "cell_type": "markdown",
      "source": [
        "# 1. 출력및연산"
      ],
      "metadata": {
        "id": "GSpKQCpFBTpy"
      }
    },
    {
      "cell_type": "code",
      "source": [
        "print(\"10+10\") # 글자\n",
        "print(\"10\"+\"10\") # 글자 + 글자\n",
        "print(10+10)   # 숫자 + 숫자"
      ],
      "metadata": {
        "colab": {
          "base_uri": "https://localhost:8080/"
        },
        "id": "iyacbNJJBfeU",
        "outputId": "9d0a5180-dcca-434a-dfb1-5492820061c5"
      },
      "execution_count": 2,
      "outputs": [
        {
          "output_type": "stream",
          "name": "stdout",
          "text": [
            "10+10\n",
            "1010\n",
            "20\n"
          ]
        }
      ]
    },
    {
      "cell_type": "code",
      "source": [
        "print(10+30-20*3/10) # +,-,*,/"
      ],
      "metadata": {
        "colab": {
          "base_uri": "https://localhost:8080/"
        },
        "id": "zRzksbOrCBhG",
        "outputId": "a7a12e47-a5a3-4309-9695-d959b492db48"
      },
      "execution_count": 4,
      "outputs": [
        {
          "output_type": "stream",
          "name": "stdout",
          "text": [
            "34.0\n"
          ]
        }
      ]
    },
    {
      "cell_type": "code",
      "source": [
        "a = 10\n",
        "a += 10 # 복합대입연산\n",
        "print(a)"
      ],
      "metadata": {
        "colab": {
          "base_uri": "https://localhost:8080/"
        },
        "id": "QZ5CMtkSCji-",
        "outputId": "e11aa4ff-0571-4225-eee0-63f4e32262ef"
      },
      "execution_count": 5,
      "outputs": [
        {
          "output_type": "stream",
          "name": "stdout",
          "text": [
            "20\n"
          ]
        }
      ]
    },
    {
      "cell_type": "markdown",
      "source": [
        " 에버랜드에 놀러간 수민이가 입장료를 내야 합니다\n",
        " 어른은 34000원 , 어린이는 20000원 금액이 정해져 있습니다.\n",
        " 어른 1명 이랑 어린이 2명이 입장하려고 하고 ,\n",
        " 카드로 결제하면 전체 금액에 20퍼 할인을 한다고 합니다.\n",
        " 총 금액은 얼마 일까 ?"
      ],
      "metadata": {
        "id": "Vm9A2sA8C7YA"
      }
    },
    {
      "cell_type": "code",
      "source": [
        "어른 = 34000\n",
        "어린이 = 20000\n",
        "\n",
        "금액 = 어른 + 어린이*2\n",
        "금액 = 금액 - 금액*0.2  # 금액*0.8\n",
        "print(금액)"
      ],
      "metadata": {
        "colab": {
          "base_uri": "https://localhost:8080/"
        },
        "id": "1SlFz8DSDexa",
        "outputId": "52554240-cec2-491e-d410-26e5c624ddc2"
      },
      "execution_count": 9,
      "outputs": [
        {
          "output_type": "stream",
          "name": "stdout",
          "text": [
            "59200.0\n"
          ]
        }
      ]
    },
    {
      "cell_type": "markdown",
      "source": [
        "# 문자열/리스트\n"
      ],
      "metadata": {
        "id": "Dcmm-7cKFZkB"
      }
    },
    {
      "cell_type": "code",
      "source": [
        "자기소개 = \"안녕하세요 저는 김수민!!입니다.\"  # 문자열\n",
        "#           0 1 2 3 4 56 7 89 101112. . .\n",
        "print(자기소개[9] + 자기소개[10] + 자기소개[11])\n",
        "print(자기소개[9:12]) # 9 10 11"
      ],
      "metadata": {
        "colab": {
          "base_uri": "https://localhost:8080/"
        },
        "id": "5bx6CUd4Fhdp",
        "outputId": "bdb89aa6-9003-451e-cb73-5abdc837ed63"
      },
      "execution_count": 19,
      "outputs": [
        {
          "output_type": "stream",
          "name": "stdout",
          "text": [
            "김수민\n",
            "김수민\n"
          ]
        }
      ]
    },
    {
      "cell_type": "code",
      "source": [
        "과일 = [\"사과\",\"배\",\"딸기\",\"메론\",\"망고\"]    # 리스트\n",
        "#         0     1     2      3      4\n",
        "가격 = [5000,4000,12000,8000,6000]\n",
        "print(과일[4])"
      ],
      "metadata": {
        "colab": {
          "base_uri": "https://localhost:8080/"
        },
        "id": "WfSRFKsqGmbw",
        "outputId": "1542ebb8-f46f-4ece-bba8-eb1cf852c6f2"
      },
      "execution_count": 28,
      "outputs": [
        {
          "output_type": "stream",
          "name": "stdout",
          "text": [
            "망고\n"
          ]
        }
      ]
    },
    {
      "cell_type": "markdown",
      "source": [],
      "metadata": {
        "id": "CrobgkP8HRuK"
      }
    },
    {
      "cell_type": "code",
      "source": [
        "f = input(\"원하는 과일 골라 : \")\n",
        "개수 = int(input(\"개수 적어: \"))\n",
        "번호 = 과일.index(f)  # 인덱스 번호를 알려줍니다\n",
        "print(번호)\n",
        "# 총 가격을 한번 구해보시오.\n",
        "print(가격[번호]*개수)"
      ],
      "metadata": {
        "colab": {
          "base_uri": "https://localhost:8080/"
        },
        "id": "3uZIZbJFHvix",
        "outputId": "6a106272-28fb-4ece-b200-e56bd1e53a28"
      },
      "execution_count": 31,
      "outputs": [
        {
          "output_type": "stream",
          "name": "stdout",
          "text": [
            "원하는 과일 골라 : 망고\n",
            "개수 적어: 100\n",
            "4\n",
            "600000\n"
          ]
        }
      ]
    }
  ]
}